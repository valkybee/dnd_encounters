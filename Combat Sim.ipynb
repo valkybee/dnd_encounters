{
 "cells": [
  {
   "cell_type": "code",
   "execution_count": 12,
   "id": "abfaf2d6",
   "metadata": {},
   "outputs": [],
   "source": [
    "import random\n",
    "from statistics import mean"
   ]
  },
  {
   "cell_type": "code",
   "execution_count": 53,
   "id": "5e7ca668",
   "metadata": {},
   "outputs": [],
   "source": [
    "# Set up combatants\n",
    "enemies_list = {'biggie':{'hp':100, 'ac':20, 'dex':16, 'initiative':3, 'attacks':{'fist':'2d8'}}}\n",
    "players_list = {'krehs':{'hp':120, 'ac':18, 'dex':17, 'initiative':3, 'attacks':{'axe':'1d10'}}}"
   ]
  },
  {
   "cell_type": "code",
   "execution_count": 89,
   "id": "b78df6a4",
   "metadata": {},
   "outputs": [],
   "source": [
    "combatants = {**enemies_list, **players_list}"
   ]
  },
  {
   "cell_type": "code",
   "execution_count": 35,
   "id": "3653d245",
   "metadata": {},
   "outputs": [],
   "source": [
    "def dice_roll(diceform, is_crit = False, mods = 0):\n",
    "    total = 0\n",
    "    num_dice, die_type = map(int, diceform.split('d'))\n",
    "    while num_dice > 0:\n",
    "        # Add crit\n",
    "        if is_crit:\n",
    "            total += 2*random.randint(1, die_type)\n",
    "        # Or don't\n",
    "        else:\n",
    "            total += random.randint(1, die_type)\n",
    "        # Add in modifiers\n",
    "        if type(mods) == list:\n",
    "            total += sum(mods)\n",
    "        else:\n",
    "            total += mods\n",
    "        # Update number of dice left\n",
    "        num_dice -= 1\n",
    "    return total"
   ]
  },
  {
   "cell_type": "code",
   "execution_count": 91,
   "id": "98427ada",
   "metadata": {},
   "outputs": [],
   "source": [
    "def roll_init(combatants):\n",
    "    \n",
    "    # Roll initiatives\n",
    "    order = [[char, dice_roll('1d20', mods = combatants[char]['initiative']), combatants[char]['dex']] for char in combatants.keys()]\n",
    "    \n",
    "    # Sort the lists by initiative and resolve any ties\n",
    "    order = sorted(order, key = lambda x: (x[1], x[2]), reverse = True)\n",
    "    \n",
    "    return order"
   ]
  },
  {
   "cell_type": "code",
   "execution_count": 92,
   "id": "556cd887",
   "metadata": {},
   "outputs": [
    {
     "data": {
      "text/plain": [
       "[['biggie', 22, 16], ['krehs', 21, 17]]"
      ]
     },
     "execution_count": 92,
     "metadata": {},
     "output_type": "execute_result"
    }
   ],
   "source": [
    "# Roll initiative\n",
    "initiative = roll_init(combatants)\n",
    "initiative"
   ]
  },
  {
   "cell_type": "code",
   "execution_count": 109,
   "id": "90185147",
   "metadata": {},
   "outputs": [
    {
     "data": {
      "text/plain": [
       "[['fist', '2d8']]"
      ]
     },
     "execution_count": 109,
     "metadata": {},
     "output_type": "execute_result"
    }
   ],
   "source": [
    "[[item[0], item[1]] for item in combatants['biggie']['attacks'].items()]"
   ]
  },
  {
   "cell_type": "code",
   "execution_count": null,
   "id": "b237b686",
   "metadata": {},
   "outputs": [],
   "source": [
    "def do_round(character, mode = 'optimal'):\n",
    "    \n",
    "    rand_attack = list(combatants[character]['attacks'])\n",
    "#     if mode == 'optimal':\n",
    "    "
   ]
  },
  {
   "cell_type": "code",
   "execution_count": null,
   "id": "d5d98215",
   "metadata": {},
   "outputs": [],
   "source": [
    "def combat_round(initiative):\n",
    "    for character in initiative:\n",
    "        do_round()"
   ]
  },
  {
   "cell_type": "code",
   "execution_count": null,
   "id": "bb69c533",
   "metadata": {},
   "outputs": [],
   "source": [
    "while enemies:\n",
    "    combat_round(initiative)\n",
    "\n",
    "return avg_dmg_players, avg_srv_turns_players, avg_dmg_enemies, avg_srv_turns_enemies "
   ]
  }
 ],
 "metadata": {
  "kernelspec": {
   "display_name": "Python 3",
   "language": "python",
   "name": "python3"
  },
  "language_info": {
   "codemirror_mode": {
    "name": "ipython",
    "version": 3
   },
   "file_extension": ".py",
   "mimetype": "text/x-python",
   "name": "python",
   "nbconvert_exporter": "python",
   "pygments_lexer": "ipython3",
   "version": "3.9.2"
  }
 },
 "nbformat": 4,
 "nbformat_minor": 5
}
